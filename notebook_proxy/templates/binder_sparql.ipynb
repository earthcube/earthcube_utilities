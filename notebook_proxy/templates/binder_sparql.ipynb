{
 "cells": [
  {
   "cell_type": "code",
   "execution_count": 1,
   "metadata": {},
   "outputs": [],
   "source": [
    "import ipyparams\n",
    "import json"
   ]
  },
  {
   "cell_type": "code",
   "execution_count": 2,
   "metadata": {
    "tags": [
     "parameters"
    ]
   },
   "outputs": [],
   "source": [
    "ds = ipyparams.params['collection']\n",
    "print(ds)\n",
    "dso = json.loads(ds)\n",
    "# if this cell fails the first run.\n",
    "# run a second time, and it works.\n",
    "datasets,tools, queries =dso.get('datasets'),dso.get('tools'), dso.get('queries')\n",
    "#print(f'datasets={datasets}')\n",
    "#print(f'===')\n",
    "for d in datasets:\n",
    "    print (f'g={d.get(\"g\")} \\nname= \"{d.get(\"name\")}\"  \\n ====' )\n",
    "ds0 = datasets[0]\n",
    "#print(f'=== {ds0}')\n",
    "urn = datasets[0].get('g')\n",
    "ds0url = datasets[0].get('disurl')\n",
    "if len(ds0url) > 0:\n",
    "    url = ds0url[0]\n",
    "else :\n",
    "    url = ''\n",
    "\n",
    "print(f'url={url}  urn={urn}')"
   ]
  },
  {
   "cell_type": "code",
   "execution_count": 6,
   "metadata": {},
   "outputs": [],
   "source": [
    "#https://github.com/MBcode/ec/blob/master/NoteBook/sparql.ipynb also does queries\n",
    "URNs = list(map(lambda d: d.get('g'), datasets))\n",
    "URNs"
   ]
  },
  {
   "cell_type": "code",
   "execution_count": 7,
   "metadata": {
    "pycharm": {
     "name": "#%%\n"
    }
   },
   "outputs": [],
   "source": [
    "import httpimport\n",
    "with httpimport.github_repo('earthcube', 'earthcube_utilities'):\n",
    "    import earthcube_utilities as ec\n",
    "ec.local()\n",
    "#ec.wget_rdf(urn)\n",
    "dfRDFs=list(map(ec.wget_rdf, URNs))\n",
    "#!ls -l, to see it\n",
    "dfRDFs[0] #you can look at others (beyond 0)if there"
   ]
  },
  {
   "cell_type": "code",
   "execution_count": 8,
   "metadata": {},
   "outputs": [],
   "source": [
    "#Get resource download URL from the metadata\n",
    "ds_urls,ds_url= ec.getDatasetURLs(URNs) #if d1 else ec.getDatasetURLs(dRows,dfSPARQL) \n",
    "ds_urls #list of dataset's urls ;can use 1st or filter by ext .."
   ]
  },
  {
   "cell_type": "code",
   "execution_count": 9,
   "metadata": {},
   "outputs": [],
   "source": [
    "#Filter URLs to download, if you want:\n",
    "ext='.tsv' #you can pick\n",
    "ds_url=ec.collect_ext(ds_urls,ext)\n",
    "#Download the resource\n",
    "#df=ec.read_file(url,ext) #can cut+paste one you want to see, or get them all:\n",
    "DFs=list(map(lambda u: ec.read_file(u,ext), ds_url)) #you can look at separately below\n",
    "ds_url"
   ]
  },
  {
   "cell_type": "code",
   "execution_count": 10,
   "metadata": {
    "pycharm": {
     "name": "#%%\n"
    }
   },
   "outputs": [],
   "source": [
    "!ls -l"
   ]
  },
  {
   "cell_type": "code",
   "execution_count": 11,
   "metadata": {
    "pycharm": {
     "name": "#%%\n"
    }
   },
   "outputs": [],
   "source": [
    "ec.viz()"
   ]
  },
  {
   "cell_type": "code",
   "execution_count": null,
   "metadata": {
    "pycharm": {
     "name": "#%%\n"
    }
   },
   "outputs": [],
   "source": [
    "\n"
   ]
  }
 ],
 "metadata": {
  "celltoolbar": "Tags",
  "kernelspec": {
   "display_name": "Python 3 (ipykernel)",
   "language": "python",
   "name": "python3"
  },
  "language_info": {
   "codemirror_mode": {
    "name": "ipython",
    "version": 3
   },
   "file_extension": ".py",
   "mimetype": "text/x-python",
   "name": "python",
   "nbconvert_exporter": "python",
   "pygments_lexer": "ipython3",
   "version": "3.9.13"
  }
 },
 "nbformat": 4,
 "nbformat_minor": 4
}
