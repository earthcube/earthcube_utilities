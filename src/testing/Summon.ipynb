{
 "cells": [
  {
   "cell_type": "code",
   "execution_count": 9,
   "metadata": {
    "collapsed": true
   },
   "outputs": [
    {
     "ename": "KeyboardInterrupt",
     "evalue": "",
     "output_type": "error",
     "traceback": [
      "\u001B[0;31m---------------------------------------------------------------------------\u001B[0m",
      "\u001B[0;31mKeyboardInterrupt\u001B[0m                         Traceback (most recent call last)",
      "Cell \u001B[0;32mIn [9], line 13\u001B[0m\n\u001B[1;32m     10\u001B[0m objects \u001B[38;5;241m=\u001B[39m client\u001B[38;5;241m.\u001B[39mlist_objects(\u001B[38;5;124m'\u001B[39m\u001B[38;5;124mtest3\u001B[39m\u001B[38;5;124m'\u001B[39m, prefix\u001B[38;5;241m=\u001B[39m\u001B[38;5;124m'\u001B[39m\u001B[38;5;124m/summoned/geocodes_demo_datasets/\u001B[39m\u001B[38;5;124m'\u001B[39m,\n\u001B[1;32m     11\u001B[0m                               recursive\u001B[38;5;241m=\u001B[39m\u001B[38;5;28;01mTrue\u001B[39;00m, include_user_meta\u001B[38;5;241m=\u001B[39m\u001B[38;5;28;01mTrue\u001B[39;00m)\n\u001B[1;32m     12\u001B[0m \u001B[38;5;28;01mfor\u001B[39;00m obj \u001B[38;5;129;01min\u001B[39;00m objects:\n\u001B[0;32m---> 13\u001B[0m     \u001B[38;5;28;43mprint\u001B[39;49m(obj\u001B[38;5;241m.\u001B[39mbucket_name, obj\u001B[38;5;241m.\u001B[39mobject_name\u001B[38;5;241m.\u001B[39mencode(\u001B[38;5;124m'\u001B[39m\u001B[38;5;124mutf-8\u001B[39m\u001B[38;5;124m'\u001B[39m), obj\u001B[38;5;241m.\u001B[39mlast_modified,\n\u001B[1;32m     14\u001B[0m           obj\u001B[38;5;241m.\u001B[39metag, obj\u001B[38;5;241m.\u001B[39msize, obj\u001B[38;5;241m.\u001B[39mcontent_type)\n",
      "Cell \u001B[0;32mIn [9], line 13\u001B[0m\n\u001B[1;32m     10\u001B[0m objects \u001B[38;5;241m=\u001B[39m client\u001B[38;5;241m.\u001B[39mlist_objects(\u001B[38;5;124m'\u001B[39m\u001B[38;5;124mtest3\u001B[39m\u001B[38;5;124m'\u001B[39m, prefix\u001B[38;5;241m=\u001B[39m\u001B[38;5;124m'\u001B[39m\u001B[38;5;124m/summoned/geocodes_demo_datasets/\u001B[39m\u001B[38;5;124m'\u001B[39m,\n\u001B[1;32m     11\u001B[0m                               recursive\u001B[38;5;241m=\u001B[39m\u001B[38;5;28;01mTrue\u001B[39;00m, include_user_meta\u001B[38;5;241m=\u001B[39m\u001B[38;5;28;01mTrue\u001B[39;00m)\n\u001B[1;32m     12\u001B[0m \u001B[38;5;28;01mfor\u001B[39;00m obj \u001B[38;5;129;01min\u001B[39;00m objects:\n\u001B[0;32m---> 13\u001B[0m     \u001B[38;5;28;43mprint\u001B[39;49m(obj\u001B[38;5;241m.\u001B[39mbucket_name, obj\u001B[38;5;241m.\u001B[39mobject_name\u001B[38;5;241m.\u001B[39mencode(\u001B[38;5;124m'\u001B[39m\u001B[38;5;124mutf-8\u001B[39m\u001B[38;5;124m'\u001B[39m), obj\u001B[38;5;241m.\u001B[39mlast_modified,\n\u001B[1;32m     14\u001B[0m           obj\u001B[38;5;241m.\u001B[39metag, obj\u001B[38;5;241m.\u001B[39msize, obj\u001B[38;5;241m.\u001B[39mcontent_type)\n",
      "File \u001B[0;32m_pydevd_bundle/pydevd_cython_darwin_39_64.pyx:1180\u001B[0m, in \u001B[0;36m_pydevd_bundle.pydevd_cython_darwin_39_64.SafeCallWrapper.__call__\u001B[0;34m()\u001B[0m\n",
      "File \u001B[0;32m_pydevd_bundle/pydevd_cython_darwin_39_64.pyx:621\u001B[0m, in \u001B[0;36m_pydevd_bundle.pydevd_cython_darwin_39_64.PyDBFrame.trace_dispatch\u001B[0;34m()\u001B[0m\n",
      "File \u001B[0;32m_pydevd_bundle/pydevd_cython_darwin_39_64.pyx:930\u001B[0m, in \u001B[0;36m_pydevd_bundle.pydevd_cython_darwin_39_64.PyDBFrame.trace_dispatch\u001B[0;34m()\u001B[0m\n",
      "File \u001B[0;32m_pydevd_bundle/pydevd_cython_darwin_39_64.pyx:921\u001B[0m, in \u001B[0;36m_pydevd_bundle.pydevd_cython_darwin_39_64.PyDBFrame.trace_dispatch\u001B[0;34m()\u001B[0m\n",
      "File \u001B[0;32m_pydevd_bundle/pydevd_cython_darwin_39_64.pyx:318\u001B[0m, in \u001B[0;36m_pydevd_bundle.pydevd_cython_darwin_39_64.PyDBFrame.do_wait_suspend\u001B[0;34m()\u001B[0m\n",
      "File \u001B[0;32m/Applications/PyCharm.app/Contents/plugins/python/helpers/pydev/pydevd.py:1147\u001B[0m, in \u001B[0;36mPyDB.do_wait_suspend\u001B[0;34m(self, thread, frame, event, arg, send_suspend_message, is_unhandled_exception)\u001B[0m\n\u001B[1;32m   1144\u001B[0m         from_this_thread\u001B[38;5;241m.\u001B[39mappend(frame_id)\n\u001B[1;32m   1146\u001B[0m \u001B[38;5;28;01mwith\u001B[39;00m \u001B[38;5;28mself\u001B[39m\u001B[38;5;241m.\u001B[39m_threads_suspended_single_notification\u001B[38;5;241m.\u001B[39mnotify_thread_suspended(thread_id, stop_reason):\n\u001B[0;32m-> 1147\u001B[0m     \u001B[38;5;28;43mself\u001B[39;49m\u001B[38;5;241;43m.\u001B[39;49m\u001B[43m_do_wait_suspend\u001B[49m\u001B[43m(\u001B[49m\u001B[43mthread\u001B[49m\u001B[43m,\u001B[49m\u001B[43m \u001B[49m\u001B[43mframe\u001B[49m\u001B[43m,\u001B[49m\u001B[43m \u001B[49m\u001B[43mevent\u001B[49m\u001B[43m,\u001B[49m\u001B[43m \u001B[49m\u001B[43marg\u001B[49m\u001B[43m,\u001B[49m\u001B[43m \u001B[49m\u001B[43msuspend_type\u001B[49m\u001B[43m,\u001B[49m\u001B[43m \u001B[49m\u001B[43mfrom_this_thread\u001B[49m\u001B[43m)\u001B[49m\n",
      "File \u001B[0;32m/Applications/PyCharm.app/Contents/plugins/python/helpers/pydev/pydevd.py:1162\u001B[0m, in \u001B[0;36mPyDB._do_wait_suspend\u001B[0;34m(self, thread, frame, event, arg, suspend_type, from_this_thread)\u001B[0m\n\u001B[1;32m   1159\u001B[0m             \u001B[38;5;28mself\u001B[39m\u001B[38;5;241m.\u001B[39m_call_mpl_hook()\n\u001B[1;32m   1161\u001B[0m         \u001B[38;5;28mself\u001B[39m\u001B[38;5;241m.\u001B[39mprocess_internal_commands()\n\u001B[0;32m-> 1162\u001B[0m         \u001B[43mtime\u001B[49m\u001B[38;5;241;43m.\u001B[39;49m\u001B[43msleep\u001B[49m\u001B[43m(\u001B[49m\u001B[38;5;241;43m0.01\u001B[39;49m\u001B[43m)\u001B[49m\n\u001B[1;32m   1164\u001B[0m \u001B[38;5;28mself\u001B[39m\u001B[38;5;241m.\u001B[39mcancel_async_evaluation(get_current_thread_id(thread), \u001B[38;5;28mstr\u001B[39m(\u001B[38;5;28mid\u001B[39m(frame)))\n\u001B[1;32m   1166\u001B[0m \u001B[38;5;66;03m# process any stepping instructions\u001B[39;00m\n",
      "\u001B[0;31mKeyboardInterrupt\u001B[0m: "
     ]
    }
   ],
   "source": [
    "from minio import Minio\n",
    "\n",
    "# client = Minio('oss.geocodes-dev.earthcube.org',\n",
    "#                access_key='YOUR-ACCESSKEYID',\n",
    "#                secret_key='YOUR-SECRETACCESSKEY')\n",
    "client = Minio('oss.geocodes-dev.earthcube.org'\n",
    "               )\n",
    "# List all object paths in bucket that begin with my-prefixname.\n",
    "#test3/summoned/geocodes_demo_datasets/257108e0760f96ef7a480e1d357bcf8720cd11e4.jsonld\n",
    "objects = client.list_objects('test3', prefix='/summoned/geocodes_demo_datasets/',\n",
    "                              recursive=True, include_user_meta=True)\n",
    "for obj in objects:\n",
    "\n",
    "    print(obj.bucket_name, obj.object_name.encode('utf-8'), obj.last_modified,\n",
    "          obj.etag, obj.size, obj.content_type)\n",
    "\n"
   ]
  },
  {
   "cell_type": "code",
   "execution_count": 10,
   "outputs": [
    {
     "name": "stderr",
     "output_type": "stream",
     "text": [
      "2022-09-15 11:16:49,492 WARNING usp.tree [39815/MainThread]: Assuming that the homepage of https://earthcube.github.io/GeoCODES-Metadata/metadata/Dataset/allgood/sitemap.xml is https://earthcube.github.io/\n",
      "2022-09-15 11:16:49,493 INFO usp.fetch_parse [39815/MainThread]: Fetching level 0 sitemap from https://earthcube.github.io/robots.txt...\n",
      "2022-09-15 11:16:49,493 INFO usp.helpers [39815/MainThread]: Fetching URL https://earthcube.github.io/robots.txt...\n",
      "2022-09-15 11:16:49,979 WARNING usp.helpers [39815/MainThread]: Request for URL https://earthcube.github.io/robots.txt failed: 404 Not Found\n",
      "2022-09-15 11:16:49,979 INFO usp.helpers [39815/MainThread]: Not retrying for URL https://earthcube.github.io/robots.txt\n",
      "2022-09-15 11:16:49,980 INFO usp.fetch_parse [39815/MainThread]: Fetching level 0 sitemap from https://earthcube.github.io/sitemap...\n",
      "2022-09-15 11:16:49,981 INFO usp.helpers [39815/MainThread]: Fetching URL https://earthcube.github.io/sitemap...\n",
      "2022-09-15 11:16:50,458 WARNING usp.helpers [39815/MainThread]: Request for URL https://earthcube.github.io/sitemap failed: 404 Not Found\n",
      "2022-09-15 11:16:50,459 INFO usp.helpers [39815/MainThread]: Not retrying for URL https://earthcube.github.io/sitemap\n",
      "2022-09-15 11:16:50,460 INFO usp.fetch_parse [39815/MainThread]: Fetching level 0 sitemap from https://earthcube.github.io/sitemap-index.xml.gz...\n",
      "2022-09-15 11:16:50,461 INFO usp.helpers [39815/MainThread]: Fetching URL https://earthcube.github.io/sitemap-index.xml.gz...\n",
      "2022-09-15 11:16:50,771 WARNING usp.helpers [39815/MainThread]: Request for URL https://earthcube.github.io/sitemap-index.xml.gz failed: 404 Not Found\n",
      "2022-09-15 11:16:50,772 INFO usp.helpers [39815/MainThread]: Not retrying for URL https://earthcube.github.io/sitemap-index.xml.gz\n",
      "2022-09-15 11:16:50,773 INFO usp.fetch_parse [39815/MainThread]: Fetching level 0 sitemap from https://earthcube.github.io/sitemap-index.xml...\n",
      "2022-09-15 11:16:50,773 INFO usp.helpers [39815/MainThread]: Fetching URL https://earthcube.github.io/sitemap-index.xml...\n",
      "2022-09-15 11:16:51,129 WARNING usp.helpers [39815/MainThread]: Request for URL https://earthcube.github.io/sitemap-index.xml failed: 404 Not Found\n",
      "2022-09-15 11:16:51,130 INFO usp.helpers [39815/MainThread]: Not retrying for URL https://earthcube.github.io/sitemap-index.xml\n",
      "2022-09-15 11:16:51,131 INFO usp.fetch_parse [39815/MainThread]: Fetching level 0 sitemap from https://earthcube.github.io/admin/config/search/xmlsitemap...\n",
      "2022-09-15 11:16:51,131 INFO usp.helpers [39815/MainThread]: Fetching URL https://earthcube.github.io/admin/config/search/xmlsitemap...\n",
      "2022-09-15 11:16:51,420 WARNING usp.helpers [39815/MainThread]: Request for URL https://earthcube.github.io/admin/config/search/xmlsitemap failed: 404 Not Found\n",
      "2022-09-15 11:16:51,421 INFO usp.helpers [39815/MainThread]: Not retrying for URL https://earthcube.github.io/admin/config/search/xmlsitemap\n",
      "2022-09-15 11:16:51,422 INFO usp.fetch_parse [39815/MainThread]: Fetching level 0 sitemap from https://earthcube.github.io/sitemap_index.xml...\n",
      "2022-09-15 11:16:51,422 INFO usp.helpers [39815/MainThread]: Fetching URL https://earthcube.github.io/sitemap_index.xml...\n",
      "2022-09-15 11:16:51,724 WARNING usp.helpers [39815/MainThread]: Request for URL https://earthcube.github.io/sitemap_index.xml failed: 404 Not Found\n",
      "2022-09-15 11:16:51,725 INFO usp.helpers [39815/MainThread]: Not retrying for URL https://earthcube.github.io/sitemap_index.xml\n",
      "2022-09-15 11:16:51,726 INFO usp.fetch_parse [39815/MainThread]: Fetching level 0 sitemap from https://earthcube.github.io/sitemap/sitemap-index.xml...\n",
      "2022-09-15 11:16:51,727 INFO usp.helpers [39815/MainThread]: Fetching URL https://earthcube.github.io/sitemap/sitemap-index.xml...\n",
      "2022-09-15 11:16:52,047 WARNING usp.helpers [39815/MainThread]: Request for URL https://earthcube.github.io/sitemap/sitemap-index.xml failed: 404 Not Found\n",
      "2022-09-15 11:16:52,048 INFO usp.helpers [39815/MainThread]: Not retrying for URL https://earthcube.github.io/sitemap/sitemap-index.xml\n",
      "2022-09-15 11:16:52,049 INFO usp.fetch_parse [39815/MainThread]: Fetching level 0 sitemap from https://earthcube.github.io/.sitemap.xml...\n",
      "2022-09-15 11:16:52,050 INFO usp.helpers [39815/MainThread]: Fetching URL https://earthcube.github.io/.sitemap.xml...\n",
      "2022-09-15 11:16:52,330 WARNING usp.helpers [39815/MainThread]: Request for URL https://earthcube.github.io/.sitemap.xml failed: 404 Not Found\n",
      "2022-09-15 11:16:52,331 INFO usp.helpers [39815/MainThread]: Not retrying for URL https://earthcube.github.io/.sitemap.xml\n",
      "2022-09-15 11:16:52,331 INFO usp.fetch_parse [39815/MainThread]: Fetching level 0 sitemap from https://earthcube.github.io/sitemap_index.xml.gz...\n",
      "2022-09-15 11:16:52,333 INFO usp.helpers [39815/MainThread]: Fetching URL https://earthcube.github.io/sitemap_index.xml.gz...\n",
      "2022-09-15 11:16:52,646 WARNING usp.helpers [39815/MainThread]: Request for URL https://earthcube.github.io/sitemap_index.xml.gz failed: 404 Not Found\n",
      "2022-09-15 11:16:52,647 INFO usp.helpers [39815/MainThread]: Not retrying for URL https://earthcube.github.io/sitemap_index.xml.gz\n",
      "2022-09-15 11:16:52,648 INFO usp.fetch_parse [39815/MainThread]: Fetching level 0 sitemap from https://earthcube.github.io/sitemap.xml...\n",
      "2022-09-15 11:16:52,649 INFO usp.helpers [39815/MainThread]: Fetching URL https://earthcube.github.io/sitemap.xml...\n",
      "2022-09-15 11:16:52,938 WARNING usp.helpers [39815/MainThread]: Request for URL https://earthcube.github.io/sitemap.xml failed: 404 Not Found\n",
      "2022-09-15 11:16:52,938 INFO usp.helpers [39815/MainThread]: Not retrying for URL https://earthcube.github.io/sitemap.xml\n",
      "2022-09-15 11:16:52,939 INFO usp.fetch_parse [39815/MainThread]: Fetching level 0 sitemap from https://earthcube.github.io/sitemap.xml.gz...\n",
      "2022-09-15 11:16:52,940 INFO usp.helpers [39815/MainThread]: Fetching URL https://earthcube.github.io/sitemap.xml.gz...\n",
      "2022-09-15 11:16:53,290 WARNING usp.helpers [39815/MainThread]: Request for URL https://earthcube.github.io/sitemap.xml.gz failed: 404 Not Found\n",
      "2022-09-15 11:16:53,291 INFO usp.helpers [39815/MainThread]: Not retrying for URL https://earthcube.github.io/sitemap.xml.gz\n"
     ]
    },
    {
     "name": "stdout",
     "output_type": "stream",
     "text": [
      "IndexWebsiteSitemap(url=https://earthcube.github.io/, sub_sitemaps=[InvalidSitemap(url=https://earthcube.github.io/robots.txt, reason=Unable to fetch sitemap from https://earthcube.github.io/robots.txt: 404 Not Found)])\n"
     ]
    }
   ],
   "source": [
    "from usp.tree import sitemap_tree_for_homepage\n",
    "\n",
    "tree = sitemap_tree_for_homepage('https://earthcube.github.io/GeoCODES-Metadata/metadata/Dataset/allgood/sitemap.xml')\n",
    "print(tree)"
   ],
   "metadata": {
    "collapsed": false,
    "pycharm": {
     "name": "#%%\n"
    }
   }
  },
  {
   "cell_type": "code",
   "execution_count": null,
   "outputs": [],
   "source": [],
   "metadata": {
    "collapsed": false,
    "pycharm": {
     "name": "#%%\n"
    }
   }
  }
 ],
 "metadata": {
  "kernelspec": {
   "display_name": "Python 3",
   "language": "python",
   "name": "python3"
  },
  "language_info": {
   "codemirror_mode": {
    "name": "ipython",
    "version": 2
   },
   "file_extension": ".py",
   "mimetype": "text/x-python",
   "name": "python",
   "nbconvert_exporter": "python",
   "pygments_lexer": "ipython2",
   "version": "2.7.6"
  }
 },
 "nbformat": 4,
 "nbformat_minor": 0
}