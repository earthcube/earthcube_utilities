{
 "cells": [
  {
   "cell_type": "code",
   "execution_count": 14,
   "outputs": [],
   "source": [
    "import warnings\n",
    "warnings.simplefilter(action='ignore', category=FutureWarning)\n",
    "from urllib.request import urlopen\n",
    "import kglab\n",
    "import pandas as pd\n",
    "import seaborn as sns\n",
    "from rdflib import Graph  #, plugin\n",
    "import matplotlib.pyplot as plt\n",
    "# pyshack sends output to log along with the vars.  This suppresses that\n",
    "import logging, sys\n",
    "logging.disable(sys.maxsize)\n",
    "from reportlab.platypus import *\n",
    "from datetime import datetime\n",
    "from minio import Minio"
   ],
   "metadata": {
    "collapsed": false,
    "ExecuteTime": {
     "start_time": "2023-09-26T22:11:32.834023Z",
     "end_time": "2023-09-26T22:11:32.837476Z"
    }
   }
  },
  {
   "cell_type": "code",
   "execution_count": 15,
   "outputs": [],
   "source": [
    "namespaces = {\n",
    "    \"shacl\":   \"http://www.w3.org/ns/shacl#\" ,\n",
    "    }\n",
    "\n",
    "kg = kglab.KnowledgeGraph(\n",
    "    name = \"Schema.org based datagraph\",\n",
    "    base_uri = \"https://example.org/id/\",\n",
    "    namespaces = namespaces,\n",
    "    )"
   ],
   "metadata": {
    "collapsed": false,
    "ExecuteTime": {
     "start_time": "2023-09-26T22:11:34.323971Z",
     "end_time": "2023-09-26T22:11:34.333872Z"
    }
   }
  },
  {
   "cell_type": "code",
   "execution_count": 16,
   "outputs": [],
   "source": [
    "date_time = datetime.now().date()\n",
    "\n",
    "sgurl = \"https://raw.githubusercontent.com/iodepo/odis-arch/master/validation/SHACL/GeoCodesv1Shapes.ttl\"\n",
    "sg = urlopen(sgurl)\n",
    "\n",
    "# Create client with access and secret key.\n",
    "client = Minio(\"minio server\", \"access key\", \"secret key\")\n",
    "bucket = \"yybucket\"\n",
    "\n",
    "#path = f\"milled/iris/001dcdf99c383571c0479c00def62ed953c83a92.rdf\"\n",
    "#response = client.get_object(bucket, path)\n",
    "#rdf = response.data\n",
    "\n",
    "#path = f\"summoned/iris/001dcdf99c383571c0479c00def62ed953c83a92.jsonld\"\n",
    "#response = client.get_object(bucket, path)\n",
    "#jsonld = response.data\n",
    "\n",
    "path = f\"graphs/latest/iris_release.nq\"\n",
    "response = client.get_object(bucket, path)\n",
    "nq = response.data\n",
    "\n",
    "dg = nq"
   ],
   "metadata": {
    "collapsed": false,
    "ExecuteTime": {
     "start_time": "2023-09-26T22:11:35.633515Z",
     "end_time": "2023-09-26T22:11:37.757573Z"
    }
   }
  },
  {
   "cell_type": "code",
   "execution_count": 17,
   "outputs": [
    {
     "data": {
      "text/plain": "<kglab.kglab.KnowledgeGraph at 0x2b93fd970>"
     },
     "execution_count": 17,
     "metadata": {},
     "output_type": "execute_result"
    }
   ],
   "source": [
    "fna = []   # array to hold errors\n",
    "try:\n",
    "    g = Graph().parse(dg, format='nquads')\n",
    "    #g = Graph().parse(dg, format='n3')\n",
    "    result = g.serialize(format='ttl')# .decode('utf-8')\n",
    "    kg.load_rdf_text(result)\n",
    "except:\n",
    "    print(\"An exception occurred with {}\".format(fn))\n",
    "    fna.append(fn)\n",
    "\n",
    "conforms, report_graph, report_text = kg.validate(\n",
    "    shacl_graph=sg,\n",
    "    shacl_graph_format=\"ttl\"\n",
    ")\n",
    "\n",
    "kg.load_rdf_text(data=report_graph.save_rdf_text(), format=\"ttl\")"
   ],
   "metadata": {
    "collapsed": false,
    "ExecuteTime": {
     "start_time": "2023-09-26T22:11:43.108513Z",
     "end_time": "2023-09-26T22:11:43.118175Z"
    }
   }
  },
  {
   "cell_type": "code",
   "execution_count": 18,
   "outputs": [
    {
     "name": "stdout",
     "output_type": "stream",
     "text": [
      "No severity column found, all SHACL validations must have passed.\n"
     ]
    }
   ],
   "source": [
    "from io import BytesIO\n",
    "\n",
    "sparql = \"\"\"\n",
    "SELECT  ?severity  ?constraint ?path ?message ?focus ?path ?value\n",
    "  WHERE {\n",
    "    ?id rdf:type shacl:ValidationResult .\n",
    "    ?id shacl:focusNode ?focus .\n",
    "    ?id shacl:resultMessage ?message .\n",
    "    ?id shacl:resultSeverity ?severity .\n",
    "    ?id shacl:sourceConstraintComponent ?constraint .\n",
    "    OPTIONAL {\n",
    "        ?id shacl:resultPath ?path .\n",
    "    }\n",
    "    OPTIONAL {\n",
    "        ?id shacl:value ?value .\n",
    "    }\n",
    "  }\n",
    "\"\"\"\n",
    "\n",
    "pdf = kg.query_as_df(sparql)\n",
    "df = pdf  #.to_pandas()  #  including .to_pandas() breaks with papermill for reasons unknown at this time if to_pandas() is used, needed in my kglab conda env\n",
    "\n",
    "if 'severity' in df.columns:\n",
    "    dfc = df.groupby('severity').count().reset_index().rename(columns={'path': 'Count'})\n",
    "    ctst = pd.crosstab(df['message'], df['severity'],  margins = False , margins_name = 'Totals')\n",
    "\n",
    "    s1 = str(\"Checking {} object(s)\".format(len(dg) ))\n",
    "    print(s1)\n",
    "    print(ctst)\n",
    "    f = BytesIO()\n",
    "    length = f.write(bytes(ctst.to_csv(), 'utf-8'))\n",
    "    f.seek(0)\n",
    "    client.put_object(bucket, \"reports/iris/shacl.csv\", f, length)\n",
    "\n",
    "    sns.set(rc={'figure.figsize':(11.7,8.27)})\n",
    "    sns.heatmap(ctst, annot=True, fmt=\".0f\", cmap = sns.cm.crest)\n",
    "    plt.savefig('heatmap_{}.png'.format(date_time))\n",
    "else:\n",
    "    print(\"No severity column found, all SHACL validations must have passed.\")"
   ],
   "metadata": {
    "collapsed": false,
    "ExecuteTime": {
     "start_time": "2023-09-26T22:11:44.385258Z",
     "end_time": "2023-09-26T22:11:44.388131Z"
    }
   }
  },
  {
   "cell_type": "code",
   "execution_count": null,
   "outputs": [],
   "source": [],
   "metadata": {
    "collapsed": false
   }
  }
 ],
 "metadata": {
  "kernelspec": {
   "display_name": "Python 3",
   "language": "python",
   "name": "python3"
  },
  "language_info": {
   "codemirror_mode": {
    "name": "ipython",
    "version": 2
   },
   "file_extension": ".py",
   "mimetype": "text/x-python",
   "name": "python",
   "nbconvert_exporter": "python",
   "pygments_lexer": "ipython2",
   "version": "2.7.6"
  }
 },
 "nbformat": 4,
 "nbformat_minor": 0
}
