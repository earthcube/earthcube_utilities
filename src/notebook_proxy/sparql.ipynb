{
 "cells": [
  {
   "cell_type": "code",
   "execution_count": null,
   "metadata": {},
   "outputs": [],
   "source": [
    "import ipyparams\n",
    "import json"
   ]
  },
  {
   "cell_type": "code",
   "execution_count": null,
   "metadata": {
    "tags": [
     "parameters"
    ]
   },
   "outputs": [],
   "source": [
    "ds = ipyparams.params['collection']\n",
    "print(ds)\n",
    "dso = json.loads(ds)\n",
    "# if this cell fails the first run.\n",
    "# run a second time, and it works.\n",
    "d=dso.get('datasets')\n",
    "t=dso.get('tools')\n",
    "Q=dso.get('queries')\n",
    "n=dso.get('name')\n",
    "urn=d[0]  #can do others next\n",
    "print(f'n={n},d={d} t={t} q={Q},urn={urn}')\n",
    "if len(Q)>0:\n",
    "    q=Q[0]\n",
    "else:\n",
    "    q=None\n",
    "q"
   ]
  },
  {
   "cell_type": "code",
   "execution_count": null,
   "metadata": {
    "pycharm": {
     "name": "#%%\n"
    }
   },
   "outputs": [],
   "source": [
    "import httpimport\n",
    "with httpimport.github_repo('MBcode', 'ec'):\n",
    "  import ec\n",
    "ec.local()\n",
    "q=None #focus on datasets 1st\n",
    "if q:\n",
    "    dfSPARQL=ec.txt_query(q)\n",
    "else:\n",
    "    dfSPARQL=f'get URNs from resource arrays instead, eg: {urn}'\n",
    "dfSPARQL  #can pick URNs from the 'g' graph column"
   ]
  },
  {
   "cell_type": "code",
   "execution_count": null,
   "metadata": {
    "pycharm": {
     "name": "#%%\n"
    }
   },
   "outputs": [],
   "source": [
    "dfRDF=ec.wget_rdf(urn)\n",
    "dfRDF"
   ]
  },
  {
   "cell_type": "code",
   "execution_count": null,
   "metadata": {
    "pycharm": {
     "name": "#%%\n"
    }
   },
   "outputs": [],
   "source": [
    "#problem if binder can't remember the ec pkg\n",
    "!ls -la\n",
    "fnt=ec.urn2fnt(urn)\n",
    "print(f'look in:{fnt} for download urls')\n",
    "urls=ec.grep_po(\"<http://www.w3.org/ns/dcat#accessURL>\",fnt)\n",
    "url=urls[0] #pick 1st for now\n",
    "df=ec.read_file(url)\n",
    "df"
   ]
  },
  {
   "cell_type": "code",
   "execution_count": null,
   "metadata": {
    "pycharm": {
     "name": "#%%\n"
    }
   },
   "outputs": [],
   "source": [
    "ec.viz()\n"
   ]
  }
 ],
 "metadata": {
  "celltoolbar": "Tags",
  "kernelspec": {
   "display_name": "Python 3 (ipykernel)",
   "language": "python",
   "name": "python3"
  },
  "language_info": {
   "codemirror_mode": {
    "name": "ipython",
    "version": 3
   },
   "file_extension": ".py",
   "mimetype": "text/x-python",
   "name": "python",
   "nbconvert_exporter": "python",
   "pygments_lexer": "ipython3",
   "version": "3.9.13"
  }
 },
 "nbformat": 4,
 "nbformat_minor": 4
}
