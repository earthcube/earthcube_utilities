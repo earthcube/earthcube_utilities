{
 "cells": [
  {
   "cell_type": "code",
   "execution_count": 33,
   "outputs": [],
   "source": [
    "from minio import Minio\n",
    "\n",
    "# Create client with access and secret key.\n",
    "client = Minio(\"oss.geocodes.ncsa.illinois.edu:443\", \"worldsbestaccesskey\", \"worldsbestsecretkey\")"
   ],
   "metadata": {
    "collapsed": false,
    "ExecuteTime": {
     "start_time": "2023-09-23T02:25:54.157824Z",
     "end_time": "2023-09-23T02:25:54.159571Z"
    }
   }
  },
  {
   "cell_type": "code",
   "execution_count": 53,
   "outputs": [],
   "source": [
    "path = f\"milled/iris/001dcdf99c383571c0479c00def62ed953c83a92.rdf\"\n",
    "response = client.get_object(\"yybucket\", path)\n",
    "#print(response.data)\n",
    "rdf = response.data\n",
    "\n",
    "path = f\"summoned/iris/001dcdf99c383571c0479c00def62ed953c83a92.jsonld\"\n",
    "response = client.get_object(\"yybucket\", path)\n",
    "jsonld = response.data\n",
    "\n",
    "path = f\"graphs/latest/iris_release.nq\"\n",
    "response = client.get_object(\"yybucket\", path)\n",
    "nq = response.data\n",
    "\n",
    "f = open(\"shape.ttl\", \"r\")\n",
    "#print(f.read())"
   ],
   "metadata": {
    "collapsed": false,
    "ExecuteTime": {
     "start_time": "2023-09-23T02:37:40.864390Z",
     "end_time": "2023-09-23T02:37:41.377667Z"
    }
   }
  },
  {
   "cell_type": "code",
   "execution_count": 60,
   "outputs": [],
   "source": [
    "def validate_graph(graph, shacl_path=None, format='nquads'):\n",
    "    \"\"\"Validate the current graph with a SHACL schema.\n",
    "\n",
    "    Uses default schema if not supplied.\n",
    "    \"\"\"\n",
    "    if shacl_path:\n",
    "        with open(shacl_path, 'r', encoding='utf-8') as f:\n",
    "            shacl = f.read()\n",
    "    else:\n",
    "        shacl = resource_string('renku', 'data/shacl_shape.json')\n",
    "\n",
    "    return validate(\n",
    "        graph,\n",
    "        shacl_graph=shacl,\n",
    "        inference='rdfs',\n",
    "        meta_shacl=True,\n",
    "        debug=False,\n",
    "        #data_graph_format=format,\n",
    "        #shacl_graph_format='json-ld',\n",
    "        advanced=True\n",
    "    )"
   ],
   "metadata": {
    "collapsed": false,
    "ExecuteTime": {
     "start_time": "2023-09-23T02:39:26.298958Z",
     "end_time": "2023-09-23T02:39:26.303004Z"
    }
   }
  },
  {
   "cell_type": "code",
   "execution_count": 65,
   "outputs": [
    {
     "data": {
      "text/plain": "(True,\n <Graph identifier=N86f2ab9e5b604d3d9b565ecf95735050 (<class 'rdflib.graph.Graph'>)>,\n 'Validation Report\\nConforms: True\\n')"
     },
     "execution_count": 65,
     "metadata": {},
     "output_type": "execute_result"
    }
   ],
   "source": [
    "validate_graph(rdf, 'shape.ttl', 'rdfs')"
   ],
   "metadata": {
    "collapsed": false,
    "ExecuteTime": {
     "start_time": "2023-09-23T02:42:33.886833Z",
     "end_time": "2023-09-23T02:42:33.958121Z"
    }
   }
  },
  {
   "cell_type": "code",
   "execution_count": 67,
   "outputs": [
    {
     "data": {
      "text/plain": "(False,\n <Graph identifier=Nf30f2cbfc25d48d5b1a76d4fdaf366ee (<class 'rdflib.graph.Graph'>)>,\n 'Validation Report\\nConforms: False\\nResults (5):\\nConstraint Violation in MinCountConstraintComponent (http://www.w3.org/ns/shacl#MinCountConstraintComponent):\\n\\tSeverity: sh:Violation\\n\\tSource Shape: [ sh:lessThan schema1:deathDate ; sh:message Literal(\"YY TEST\") ; sh:minCount Literal(\"1\", datatype=xsd:integer) ; sh:path schema1:birthDate ]\\n\\tFocus Node: <https://ds.iris.edu/ds/products/eventplots/>\\n\\tResult Path: schema1:birthDate\\n\\tMessage: YY TEST\\nConstraint Violation in MinLengthConstraintComponent (http://www.w3.org/ns/shacl#MinLengthConstraintComponent):\\n\\tSeverity: sh:Violation\\n\\tSource Shape: ecgeo:datasetNameProperty\\n\\tFocus Node: <https://ds.iris.edu/ds/products/eventplots/>\\n\\tValue Node: Literal(\"Maps, record sections & other plots for M6.0+ events\")\\n\\tResult Path: schema1:name\\n\\tMessage: Name is required; Dataset names must have at least 15 characters\\nValidation Result in MinCountConstraintComponent (http://www.w3.org/ns/shacl#MinCountConstraintComponent):\\n\\tSeverity: sh:Warning\\n\\tSource Shape: ecgeo:licenseResourceProperty\\n\\tFocus Node: <https://ds.iris.edu/ds/products/eventplots/>\\n\\tResult Path: schema1:license\\n\\tMessage: license items must be a string, URL or schema:CreativeWork\\nValidation Result in MinCountConstraintComponent (http://www.w3.org/ns/shacl#MinCountConstraintComponent):\\n\\tSeverity: sh:Warning\\n\\tSource Shape: ecgeo:identifierProperty\\n\\tFocus Node: <https://ds.iris.edu/ds/products/eventplots/>\\n\\tResult Path: schema1:identifier\\n\\tMessage: Dataset identifier is required and must be a URL, Text or PropertyValue\\nValidation Result in MinCountConstraintComponent (http://www.w3.org/ns/shacl#MinCountConstraintComponent):\\n\\tSeverity: sh:Warning\\n\\tSource Shape: ecgeo:isAccessibleForFreeProperty\\n\\tFocus Node: <https://ds.iris.edu/ds/products/eventplots/>\\n\\tResult Path: schema1:isAccessibleForFree\\n\\tMessage: Indicate if the dataset is accessible without monetary cost using the isAccessibleForFree property; value is True or False\\n')"
     },
     "execution_count": 67,
     "metadata": {},
     "output_type": "execute_result"
    }
   ],
   "source": [
    "validate_graph(rdf, 'shape.ttl', 'rdfs')"
   ],
   "metadata": {
    "collapsed": false,
    "ExecuteTime": {
     "start_time": "2023-09-23T04:27:59.445665Z",
     "end_time": "2023-09-23T04:27:59.807809Z"
    }
   }
  },
  {
   "cell_type": "code",
   "execution_count": null,
   "outputs": [],
   "source": [],
   "metadata": {
    "collapsed": false
   }
  }
 ],
 "metadata": {
  "kernelspec": {
   "display_name": "Python 3",
   "language": "python",
   "name": "python3"
  },
  "language_info": {
   "codemirror_mode": {
    "name": "ipython",
    "version": 2
   },
   "file_extension": ".py",
   "mimetype": "text/x-python",
   "name": "python",
   "nbconvert_exporter": "python",
   "pygments_lexer": "ipython2",
   "version": "2.7.6"
  }
 },
 "nbformat": 4,
 "nbformat_minor": 0
}
