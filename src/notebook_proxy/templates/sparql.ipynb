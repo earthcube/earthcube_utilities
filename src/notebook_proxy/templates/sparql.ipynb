{
 "cells": [
  {
   "cell_type": "code",
   "execution_count": 1,
   "metadata": {
    "tags": [
     "parameters"
    ]
   },
   "outputs": [],
   "source": [
    "#github.com/nteract/papermill'parameters'tag used to inject them into template then post a gist runable by colab\n",
    "q=None\n",
    "q=\"norway\""
   ]
  },
  {
   "cell_type": "code",
   "execution_count": 2,
   "metadata": {},
   "outputs": [],
   "source": [
    "%load_ext rpy2.ipython\n",
    "%load_ext google.colab.data_table\n",
    "import httpimport\n",
    "with httpimport.github_repo('MBcode', 'ec'):\n",
    "  import ec\n",
    "#ec.get_ec() #work from scratch version for a bit\n",
    "#import ec\n",
    "df=ec.txt_query(q)\n",
    "df"
   ]
  },
  {
   "cell_type": "code",
   "execution_count": 5,
   "metadata": {},
   "outputs": [],
   "source": [
    "#1st-cut:will have to cut&paste into vars, from Row of interest:\n",
    "urn=None\n",
    "dfR=ec.wget_rdf(urn)\n",
    "#!ls -l   or FilePaneBrowser on left, to see it\n",
    "url,ext=None,None\n",
    "#dfR=ec.read_file(url,ext)\n",
    "dfR"
   ]
  },
  {
   "cell_type": "code",
   "execution_count": 6,
   "metadata": {},
   "outputs": [],
   "source": [
    "!ls -l \n",
    "ec.viz() #shows .nt metadata from urn, can use for (rdf)xml as well "
   ]
  }
 ],
 "metadata": {
  "celltoolbar": "Tags",
  "kernelspec": {
   "display_name": "Python 3",
   "language": "python",
   "name": "python3"
  },
  "language_info": {
   "codemirror_mode": {
    "name": "ipython",
    "version": 3
   },
   "file_extension": ".py",
   "mimetype": "text/x-python",
   "name": "python",
   "nbconvert_exporter": "python",
   "pygments_lexer": "ipython3",
   "version": "3.8.10"
  }
 },
 "nbformat": 4,
 "nbformat_minor": 4
}